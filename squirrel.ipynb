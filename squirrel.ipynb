{
 "cells": [
  {
   "cell_type": "code",
   "execution_count": null,
   "id": "26b67b46",
   "metadata": {},
   "outputs": [],
   "source": [
    "# 1 \n",
    "import numpy as np\n",
    "\n",
    "# 2\n",
    "zeros = np.zeros(10)\n",
    "zeros"
   ]
  },
  {
   "cell_type": "code",
   "execution_count": null,
   "id": "5bae80d1",
   "metadata": {},
   "outputs": [],
   "source": [
    "# 3\n",
    "ones = np.ones(10)\n",
    "ones"
   ]
  },
  {
   "cell_type": "code",
   "execution_count": 14,
   "id": "7dd2fd97",
   "metadata": {},
   "outputs": [
    {
     "data": {
      "text/plain": [
       "array([5., 5., 5., 5., 5., 5., 5., 5., 5., 5.])"
      ]
     },
     "execution_count": 14,
     "metadata": {},
     "output_type": "execute_result"
    }
   ],
   "source": [
    "# 4\n",
    "fives = np.ones(10) * 5\n",
    "fives"
   ]
  },
  {
   "cell_type": "code",
   "execution_count": 15,
   "id": "73f08f9c",
   "metadata": {},
   "outputs": [
    {
     "name": "stdout",
     "output_type": "stream",
     "text": [
      "[10 11 12 13 14 15 16 17 18 19 20 21 22 23 24 25 26 27 28 29 30 31 32 33\n",
      " 34 35 36 37 38 39 40 41 42 43 44 45 46 47 48 49 50]\n"
     ]
    }
   ],
   "source": [
    "# 5\n",
    "print(np.arange(10,51))"
   ]
  },
  {
   "cell_type": "code",
   "execution_count": null,
   "id": "907e196a",
   "metadata": {},
   "outputs": [],
   "source": [
    "# 6 the first number is the number of ints, second is the range it goes up to, third is that it's even\n",
    "print(np.arange(10,51,2))"
   ]
  },
  {
   "cell_type": "code",
   "execution_count": 16,
   "id": "bef87207",
   "metadata": {},
   "outputs": [
    {
     "data": {
      "text/plain": [
       "array([[0, 1, 2],\n",
       "       [3, 4, 5],\n",
       "       [6, 7, 8]])"
      ]
     },
     "execution_count": 16,
     "metadata": {},
     "output_type": "execute_result"
    }
   ],
   "source": [
    "# 7 Create an array of even integers from 10-50\n",
    "np.arange(0,9).reshape((3,3))"
   ]
  },
  {
   "cell_type": "code",
   "execution_count": 23,
   "id": "54c1b981",
   "metadata": {},
   "outputs": [
    {
     "name": "stdout",
     "output_type": "stream",
     "text": [
      "[0.66026983]\n"
     ]
    }
   ],
   "source": [
    "# 8 Use NumPy to generate a random number between 0-1\n",
    "print(np.random.rand(1))\n"
   ]
  },
  {
   "cell_type": "code",
   "execution_count": 24,
   "id": "34d419ac",
   "metadata": {},
   "outputs": [
    {
     "data": {
      "text/plain": [
       "array([[ 1,  2,  3,  4,  5],\n",
       "       [ 6,  7,  8,  9, 10],\n",
       "       [11, 12, 13, 14, 15],\n",
       "       [16, 17, 18, 19, 20],\n",
       "       [21, 22, 23, 24, 25]])"
      ]
     },
     "execution_count": 24,
     "metadata": {},
     "output_type": "execute_result"
    }
   ],
   "source": [
    "# 9 Create a matrix using the following statements and display it:\n",
    "mat = np.arange(1,26).reshape(5,5)\n",
    "mat"
   ]
  },
  {
   "cell_type": "code",
   "execution_count": 43,
   "id": "359ab1b9",
   "metadata": {},
   "outputs": [
    {
     "data": {
      "text/plain": [
       "array([[ 1.,  2.,  3.,  4.,  5.],\n",
       "       [ 6.,  7.,  8.,  9., 10.],\n",
       "       [11., 12., 13., 14., 15.],\n",
       "       [16., 17., 18., 19., 20.],\n",
       "       [21., 22., 23., 24., 25.]])"
      ]
     },
     "execution_count": 43,
     "metadata": {},
     "output_type": "execute_result"
    }
   ],
   "source": [
    "#10 \n",
    "\n",
    "# a\n",
    "mat.sum()\n",
    "\n",
    "# b\n",
    "mat.std()\n",
    "\n",
    "# c\n",
    "mat1 = np.ones(25).reshape(5,5)\n",
    "mat1\n",
    "\n",
    "#d \n",
    "mat1 + mat\n",
    "\n",
    "#e \n",
    "mat * mat1"
   ]
  },
  {
   "cell_type": "code",
   "execution_count": null,
   "id": "74708e87",
   "metadata": {},
   "outputs": [],
   "source": []
  },
  {
   "cell_type": "code",
   "execution_count": null,
   "id": "ce691f96",
   "metadata": {},
   "outputs": [],
   "source": []
  }
 ],
 "metadata": {
  "kernelspec": {
   "display_name": "Python 3 (ipykernel)",
   "language": "python",
   "name": "python3"
  },
  "language_info": {
   "codemirror_mode": {
    "name": "ipython",
    "version": 3
   },
   "file_extension": ".py",
   "mimetype": "text/x-python",
   "name": "python",
   "nbconvert_exporter": "python",
   "pygments_lexer": "ipython3",
   "version": "3.9.7"
  }
 },
 "nbformat": 4,
 "nbformat_minor": 5
}
